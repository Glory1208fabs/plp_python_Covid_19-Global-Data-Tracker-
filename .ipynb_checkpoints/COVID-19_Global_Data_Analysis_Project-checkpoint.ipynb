{
 "cells": [
  {
   "cell_type": "markdown",
   "id": "e21a19af",
   "metadata": {},
   "source": [
    "COVID-19_Global_Data_Analysis"
   ]
  },
  {
   "cell_type": "code",
   "execution_count": null,
   "id": "652c9105",
   "metadata": {},
   "outputs": [],
   "source": []
  }
 ],
 "metadata": {
  "language_info": {
   "name": "python"
  }
 },
 "nbformat": 4,
 "nbformat_minor": 5
}
